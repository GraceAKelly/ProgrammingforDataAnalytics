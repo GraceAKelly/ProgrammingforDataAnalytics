{
 "cells": [
  {
   "cell_type": "markdown",
   "metadata": {},
   "source": [
    "# An Investigation Into The numpy.random Package on NumPy"
   ]
  },
  {
   "cell_type": "markdown",
   "metadata": {
    "collapsed": true
   },
   "source": [
    "![NumPyLogo](https://cdn-images-1.medium.com/max/1200/1*L0yNfRdiH8DfYuiJTKPxww.png)\n",
    "\n",
    "## NumPy\n",
    "NumPy, short for Numerical Python, is one of the most important foundational packages for numerical computing in Python.\n",
    "\n",
    "Some things you will find in NumPy:\n",
    "\n",
    "- ndarray, an efficient multidimensional array providing fast array-orientated arithmetic operations and flexible broadcasting capabilities.\n",
    "- Mathematical functions for fast operations on entire arrays of data without having to write loops.\n",
    "- Tools for reading/writing array data to disk and working with memory mapped files.\n",
    "- Linear algebra, random number generation, and Fourier tranform capabilities.\n",
    "- A C API for connecting NumPy with libaries written in C, C++, or FORTRAN\n",
    "\n",
    "## numpy.random\n",
    "\n",
    "The numpy.random module supplements the built-in Python random with functions for effciently generating whole arrays of simple values from many kinds of probability distributions.\n",
    "One of the reasons NumPy is so important for numerical computations in Python is because it is designed for efficiency on large arrays of data as\n",
    "- NumPy internally stores data in contiguous block of memory, independent of other built in Python objects. NumPy's library of algorithms written in the C languagecan operate on this memory without any type checking or other overhead. NumPy arrays also use much less memory than built-in Python sequences\n",
    "- NumPy operations perform complex perform complex computations on entire arrays without the need for Python loops.\n",
    "\n",
    "(Python for Data Analysis, Wes McKinney, O'Reilly Second Edition)\n",
    "\n",
    "A list of numpy.random functions is available at https://docs.scipy.org/doc/numpy-1.15.1/reference/routines.random.html\n"
   ]
  },
  {
   "cell_type": "code",
   "execution_count": 1,
   "metadata": {
    "collapsed": true
   },
   "outputs": [],
   "source": [
    "import numpy as np\n",
    "import matplotlib.pyplot as plt"
   ]
  },
  {
   "cell_type": "code",
   "execution_count": 2,
   "metadata": {},
   "outputs": [
    {
     "data": {
      "text/plain": [
       "array([1, 2, 3])"
      ]
     },
     "execution_count": 2,
     "metadata": {},
     "output_type": "execute_result"
    }
   ],
   "source": [
    "# Create an array\n",
    "np.array([1,2,3])"
   ]
  },
  {
   "cell_type": "code",
   "execution_count": 3,
   "metadata": {
    "collapsed": true
   },
   "outputs": [],
   "source": [
    "# Create a multidimensional array\n",
    "mul=np.array([[1,2,3],[4,5,6],[7,8,9],(10,11,12)])"
   ]
  },
  {
   "cell_type": "code",
   "execution_count": 4,
   "metadata": {},
   "outputs": [
    {
     "data": {
      "text/plain": [
       "array([[ 1,  2,  3],\n",
       "       [ 4,  5,  6],\n",
       "       [ 7,  8,  9],\n",
       "       [10, 11, 12]])"
      ]
     },
     "execution_count": 4,
     "metadata": {},
     "output_type": "execute_result"
    }
   ],
   "source": [
    "#Print array to screen\n",
    "mul"
   ]
  },
  {
   "cell_type": "code",
   "execution_count": 5,
   "metadata": {},
   "outputs": [
    {
     "data": {
      "text/plain": [
       "(4, 3)"
      ]
     },
     "execution_count": 5,
     "metadata": {},
     "output_type": "execute_result"
    }
   ],
   "source": [
    "#Print shape of array to screen\n",
    "mul.shape"
   ]
  },
  {
   "cell_type": "markdown",
   "metadata": {},
   "source": [
    "**---**"
   ]
  },
  {
   "cell_type": "markdown",
   "metadata": {},
   "source": [
    "## Simple Random Data"
   ]
  },
  {
   "cell_type": "markdown",
   "metadata": {},
   "source": [
    "The numpy.random package generates random data for analysis"
   ]
  },
  {
   "cell_type": "markdown",
   "metadata": {},
   "source": [
    "### numpy.random.uniform\n",
    "Draw samples from a uniform distribution.\n",
    "\n",
    "Samples are uniformly distributed over the half-open interval [low, high) (includes low, but excludes high).\n",
    "(https://docs.scipy.org/doc/numpy-1.15.1/reference/generated/numpy.random.uniform.html)"
   ]
  },
  {
   "cell_type": "code",
   "execution_count": 6,
   "metadata": {},
   "outputs": [
    {
     "data": {
      "text/plain": [
       "2.522905622137339"
      ]
     },
     "execution_count": 6,
     "metadata": {},
     "output_type": "execute_result"
    }
   ],
   "source": [
    "# Generate a random number between the low and high inputs\n",
    "np.random.uniform(0.0, 10.0)"
   ]
  },
  {
   "cell_type": "markdown",
   "metadata": {},
   "source": [
    "### The difference between rand and randn:\n",
    "\n",
    "rand gives me values within 0-1\n",
    "\n",
    "randn gives me values with mean == 0 and variance == 1\n",
    "\n",
    "(https://stackoverflow.com/questions/29806133/the-random-number-generator-in-numpy)"
   ]
  },
  {
   "cell_type": "code",
   "execution_count": 7,
   "metadata": {},
   "outputs": [
    {
     "data": {
      "text/plain": [
       "array([ 0.50651338,  0.12569959,  0.85958491,  0.5483163 ,  0.21413654,\n",
       "        0.80853429,  0.83530845,  0.97481882,  0.15829316,  0.8873923 ])"
      ]
     },
     "execution_count": 7,
     "metadata": {},
     "output_type": "execute_result"
    }
   ],
   "source": [
    "np.random.rand(10)"
   ]
  },
  {
   "cell_type": "code",
   "execution_count": 8,
   "metadata": {},
   "outputs": [
    {
     "data": {
      "text/plain": [
       "array([ 1.30659014, -0.27901638, -0.4499442 , -1.01871827, -1.20509516,\n",
       "       -0.57421742, -0.49077441,  1.05536982,  2.47958505, -1.20570639])"
      ]
     },
     "execution_count": 8,
     "metadata": {},
     "output_type": "execute_result"
    }
   ],
   "source": [
    "np.random.randn(10)"
   ]
  },
  {
   "cell_type": "code",
   "execution_count": 9,
   "metadata": {},
   "outputs": [
    {
     "data": {
      "image/png": "[encoded data removed]",
      "text/plain": [
       "<matplotlib.figure.Figure at 0x1e4e45ccb70>"
      ]
     },
     "metadata": {},
     "output_type": "display_data"
    }
   ],
   "source": [
    "# Random plot generation using randn\n",
    "%matplotlib inline\n",
    "plt.plot(np.random.randn(50).cumsum())\n",
    "plt.show()"
   ]
  },
  {
   "cell_type": "markdown",
   "metadata": {},
   "source": [
    " A display of variance in random data generation with x input vaiables "
   ]
  },
  {
   "cell_type": "markdown",
   "metadata": {},
   "source": [
    "### N-dimensional array (ndarray)\n",
    "An ndarray is a (usually fixed-size) multidimensional container of items of the same type and size. The number of dimensions and items in an array is defined by its shape, which is a tuple of N positive integers that specify the sizes of each dimension\n",
    "(https://www.numpy.org/devdocs/reference/arrays.ndarray.html)"
   ]
  },
  {
   "cell_type": "markdown",
   "metadata": {},
   "source": [
    "**randn**: Return a sample (or samples) from the **“standard normal” distribution**."
   ]
  },
  {
   "cell_type": "code",
   "execution_count": 10,
   "metadata": {
    "collapsed": true
   },
   "outputs": [],
   "source": [
    "# Generate random data\n",
    "y = np.random.randn(10,5)"
   ]
  },
  {
   "cell_type": "code",
   "execution_count": 11,
   "metadata": {},
   "outputs": [
    {
     "data": {
      "text/plain": [
       "array([[-1.20469563, -0.61617625, -0.02070229, -1.47463935, -0.09084677],\n",
       "       [-1.09217724, -0.90112131,  0.05708887,  0.15550716,  0.24197182],\n",
       "       [-0.42321418, -1.91751961, -0.06856664,  0.23728729,  1.30035633],\n",
       "       [ 0.31290769,  1.15950927, -0.11259339, -0.85344385, -0.84727055],\n",
       "       [-0.75597544, -1.3382202 , -1.03533969,  0.06926577,  0.73028775],\n",
       "       [-0.76174293,  1.58889728, -1.42255912,  1.03795794, -0.23799645],\n",
       "       [-0.28300642,  1.54530362, -0.98772148, -0.11220728,  0.81457001],\n",
       "       [ 0.44804982, -0.30476466, -0.03045802,  0.47043032, -0.64610755],\n",
       "       [-0.93970435,  0.54390837, -1.50752439,  0.49931918, -0.64377359],\n",
       "       [ 0.31923798,  0.56263868,  0.72147718, -0.11761948,  0.91692852]])"
      ]
     },
     "execution_count": 11,
     "metadata": {},
     "output_type": "execute_result"
    }
   ],
   "source": [
    "y"
   ]
  },
  {
   "cell_type": "markdown",
   "metadata": {},
   "source": [
    "A random 10x5 array is generated by NumPy"
   ]
  },
  {
   "cell_type": "code",
   "execution_count": 12,
   "metadata": {
    "collapsed": true
   },
   "outputs": [],
   "source": [
    "# Magic commands are to facilitate common tasks, they are distingished by starting with % symbol \n",
    "# %matplotlib inline is a command in Jupyter to configure the integration of matplot lib with Jupyter, otherwise plots will not appear in the noteboo\n",
    "%matplotlib inline \n",
    "import matplotlib.pyplot as plt"
   ]
  },
  {
   "cell_type": "code",
   "execution_count": 13,
   "metadata": {},
   "outputs": [
    {
     "data": {
      "image/png": "[encoded data removed]",
      "text/plain": [
       "<matplotlib.figure.Figure at 0x1e4e45cc8d0>"
      ]
     },
     "metadata": {},
     "output_type": "display_data"
    }
   ],
   "source": [
    "plt.hist(y)\n",
    "plt.show()"
   ]
  },
  {
   "cell_type": "markdown",
   "metadata": {},
   "source": [
    "The histogram displays the distribution of the random data generated by numpy.random randn across the range on the x axis"
   ]
  },
  {
   "cell_type": "markdown",
   "metadata": {},
   "source": [
    "**rand** Create an array of the given shape and populate it with random samples from a **uniform distribution** over [0, 1)"
   ]
  },
  {
   "cell_type": "code",
   "execution_count": 14,
   "metadata": {
    "collapsed": true
   },
   "outputs": [],
   "source": [
    "x= np.random.rand(10,5)"
   ]
  },
  {
   "cell_type": "code",
   "execution_count": 15,
   "metadata": {},
   "outputs": [
    {
     "data": {
      "text/plain": [
       "array([[ 0.75942989,  0.13359099,  0.57427144,  0.23889232,  0.36987984],\n",
       "       [ 0.52665602,  0.09185797,  0.76816448,  0.90266842,  0.03966567],\n",
       "       [ 0.74777602,  0.78621903,  0.74883056,  0.93870184,  0.36306954],\n",
       "       [ 0.24954371,  0.62347799,  0.82506228,  0.72864624,  0.90345013],\n",
       "       [ 0.59249812,  0.09131889,  0.77330051,  0.49473807,  0.16403858],\n",
       "       [ 0.56457571,  0.38897373,  0.09671063,  0.03319894,  0.63280286],\n",
       "       [ 0.76642944,  0.91064262,  0.50285571,  0.97783394,  0.4001599 ],\n",
       "       [ 0.26174103,  0.84465903,  0.7760633 ,  0.7229145 ,  0.53370816],\n",
       "       [ 0.55296421,  0.92839289,  0.16136292,  0.03067507,  0.14422198],\n",
       "       [ 0.25632351,  0.94831672,  0.29802266,  0.51632858,  0.4329411 ]])"
      ]
     },
     "execution_count": 15,
     "metadata": {},
     "output_type": "execute_result"
    }
   ],
   "source": [
    "x"
   ]
  },
  {
   "cell_type": "code",
   "execution_count": 16,
   "metadata": {},
   "outputs": [
    {
     "data": {
      "image/png": "[encoded data removed]",
      "text/plain": [
       "<matplotlib.figure.Figure at 0x1e4e47a6320>"
      ]
     },
     "metadata": {},
     "output_type": "display_data"
    }
   ],
   "source": [
    "plt.hist(x)\n",
    "plt.show()"
   ]
  },
  {
   "cell_type": "code",
   "execution_count": 17,
   "metadata": {
    "collapsed": true
   },
   "outputs": [],
   "source": [
    "import seaborn as sns # advanced graphs library"
   ]
  },
  {
   "cell_type": "code",
   "execution_count": 18,
   "metadata": {
    "collapsed": true
   },
   "outputs": [],
   "source": [
    "import pandas as pd"
   ]
  },
  {
   "cell_type": "markdown",
   "metadata": {},
   "source": [
    "---"
   ]
  },
  {
   "cell_type": "markdown",
   "metadata": {},
   "source": [
    "## Permutations"
   ]
  },
  {
   "cell_type": "markdown",
   "metadata": {},
   "source": [
    "Permutation relates to the act of arranging all the members of a set into some sequence or order, or if the set is already ordered, rearranging (reordering) its elements. (https://en.wikipedia.org/wiki/Permutation)\n",
    "\n",
    "**Permutation**\n",
    "\n",
    "numpy.random.permutation \n",
    "\n",
    "Randomly permute a sequence, or return a permuted range.\n",
    "(https://docs.scipy.org/doc/numpy-1.15.1/reference/generated/numpy.random.permutation.html#numpy.random.permutation)"
   ]
  },
  {
   "cell_type": "code",
   "execution_count": 19,
   "metadata": {},
   "outputs": [
    {
     "data": {
      "text/plain": [
       "array([ 7, 19, 17,  5, 11,  2,  9, 12, 14, 13, 18,  3,  6, 15,  4,  8,  0,\n",
       "       16, 10,  1])"
      ]
     },
     "execution_count": 19,
     "metadata": {},
     "output_type": "execute_result"
    }
   ],
   "source": [
    "# Creates a random permutation of a given number of values notinclusive of the highest \n",
    "np.random.permutation(20)"
   ]
  },
  {
   "cell_type": "code",
   "execution_count": 20,
   "metadata": {
    "collapsed": true
   },
   "outputs": [],
   "source": [
    "# Shape the permutation of a given value x to an array given shape returning a ndarray\n",
    "arr = np.arange(20).reshape((5, 4))"
   ]
  },
  {
   "cell_type": "code",
   "execution_count": 21,
   "metadata": {},
   "outputs": [
    {
     "data": {
      "text/plain": [
       "array([[ 0,  1,  2,  3],\n",
       "       [ 4,  5,  6,  7],\n",
       "       [ 8,  9, 10, 11],\n",
       "       [12, 13, 14, 15],\n",
       "       [16, 17, 18, 19]])"
      ]
     },
     "execution_count": 21,
     "metadata": {},
     "output_type": "execute_result"
    }
   ],
   "source": [
    "arr"
   ]
  },
  {
   "cell_type": "code",
   "execution_count": 22,
   "metadata": {},
   "outputs": [
    {
     "data": {
      "text/plain": [
       "array([15,  4,  1, 12,  9])"
      ]
     },
     "execution_count": 22,
     "metadata": {},
     "output_type": "execute_result"
    }
   ],
   "source": [
    "# Generate a random permutation of a given array\n",
    "np.random.permutation([1, 4, 9, 12, 15])"
   ]
  },
  {
   "cell_type": "markdown",
   "metadata": {},
   "source": [
    "**Shuffle**\n",
    "\n",
    "numpy.random.shuffle\n",
    "\n",
    "Modify a sequence in-place by shuffling its contents. This function only shuffles the array along the first axis of a multi-dimensional array. The order of sub-arrays is changed but their contents remains the same. (https://docs.scipy.org/doc/numpy-1.15.1/reference/generated/numpy.random.shuffle.html#numpy.random.shuffle)"
   ]
  },
  {
   "cell_type": "code",
   "execution_count": 23,
   "metadata": {},
   "outputs": [
    {
     "data": {
      "text/plain": [
       "array([2, 4, 7, 9, 1, 0, 3, 5, 8, 6])"
      ]
     },
     "execution_count": 23,
     "metadata": {},
     "output_type": "execute_result"
    }
   ],
   "source": [
    "# Arrange 10 values\n",
    "arr = np.arange(10)\n",
    "np.random.shuffle(arr)\n",
    "arr"
   ]
  },
  {
   "cell_type": "code",
   "execution_count": 24,
   "metadata": {},
   "outputs": [
    {
     "data": {
      "text/plain": [
       "array([[0, 1, 2],\n",
       "       [6, 7, 8],\n",
       "       [3, 4, 5]])"
      ]
     },
     "execution_count": 24,
     "metadata": {},
     "output_type": "execute_result"
    }
   ],
   "source": [
    "# Reshape the values into and 3 x 3 array\n",
    "arr = np.arange(9).reshape((3, 3))\n",
    "np.random.shuffle(arr)\n",
    "arr"
   ]
  },
  {
   "cell_type": "markdown",
   "metadata": {},
   "source": [
    "## Distributions\n",
    "\n",
    "The following section explains the use and purpose of five “Distributions” functions with the NumPy package. Examples are used eith random data generated by NupPy to evaluate the capabilities and applications of the following distributions:\n",
    "- Exponential Distribution\n",
    "- Binomial Distribution\n",
    "- Poisson Distribution\n",
    "- Normal Distribution\n",
    "- Gamma Distribution"
   ]
  },
  {
   "cell_type": "markdown",
   "metadata": {},
   "source": [
    "**1. The Exponential Distribution**\n",
    "\n",
    "numpy.random.exponential\n",
    "\n",
    "**Exponential Distribution Formula**\n",
    "\n",
    "![Exponential](https://wikimedia.org/api/rest_v1/media/math/render/svg/a693ce9cd1fcd15b0732ff5c5b8040c359cc9332)\n",
    "\n",
    "The exponential distribution is a continuous analogue of the geometric distribution. It describes many common situations, such as the size of raindrops measured over many rainstorms, or the time between page requests to Wikipedia (https://docs.scipy.org/doc/numpy-1.15.0/reference/generated/numpy.random.exponential.html)"
   ]
  },
  {
   "cell_type": "code",
   "execution_count": 25,
   "metadata": {},
   "outputs": [
    {
     "data": {
      "image/png": "[encoded data removed]",
      "text/plain": [
       "<matplotlib.figure.Figure at 0x1e4e7448828>"
      ]
     },
     "metadata": {},
     "output_type": "display_data"
    }
   ],
   "source": [
    "target = 250\n",
    "beta = 1.0/target\n",
    "\n",
    "Y = np.random.exponential(beta, 5000)\n",
    "plt.hist(Y, normed=True, bins=200,lw=0,alpha=.8)\n",
    "plt.plot([0,max(Y)],[target,target],'r--')\n",
    "plt.ylim(0,target*1.1)\n",
    "plt.show()"
   ]
  },
  {
   "cell_type": "markdown",
   "metadata": {},
   "source": [
    "**Use of The Exponential Distribution**\n",
    "\n",
    "The exponential distribution occurs naturally when describing the lengths of the inter-arrival times in a homogeneous Poisson process.\n",
    "\n",
    "The exponential distribution may be viewed as a continuous counterpart of the geometric distribution, which describes the number of Bernoulli trials necessary for a discrete process to change state. In contrast, the exponential distribution describes the time for a continuous process to change state.\n",
    "\n",
    "(https://en.wikipedia.org/wiki/Exponential_distribution)"
   ]
  },
  {
   "cell_type": "markdown",
   "metadata": {
    "collapsed": true
   },
   "source": [
    "**2. The Binomial Distribution**\n",
    "\n",
    "numpy.random.binomial(n, p, size=None)\n",
    "\n",
    "The Binomial Distribution Formula\n",
    "\n",
    "![Binomial Distribution Formula](http://sphweb.bumc.bu.edu/otlt/MPH-Modules/BS/BS704_Probability/lessonimages/equation_image93.gif)\n",
    "\n",
    "Draw samples from a binomial distribution.\n",
    "\n",
    "Samples are drawn from a binomial distribution with specified parameters, n trials and p probability of success where n an integer >= 0 and p is in the interval [0,1].\n",
    "(https://docs.scipy.org/doc/numpy-1.15.1/reference/generated/numpy.random.binomial.html#numpy.random.binomial)\n",
    "\n",
    "A binomial random variable counts how often a particular event occurs in a fixed number of tries or trials.\n",
    "\n",
    "n = number of trials\n",
    "p = probability event of interest occurs on any one trial\n",
    "size = number of times you want to run this experiment\n",
    "(https://stackoverflow.com/questions/27644617/difference-between-n-and-size-parameters-in-np-random-binomialn-p-size-1000)"
   ]
  },
  {
   "cell_type": "code",
   "execution_count": 26,
   "metadata": {},
   "outputs": [
    {
     "data": {
      "text/plain": [
       "1"
      ]
     },
     "execution_count": 26,
     "metadata": {},
     "output_type": "execute_result"
    }
   ],
   "source": [
    "#Select a random number from the binomial distribution,(https://s3.amazonaws.com/assets.datacamp.com/production/course_1549/slides/ch3_slides.pdf)\n",
    "# Example, filp a coin 4 times, 2 possible outcomes how many times will I get heads\n",
    "np.random.binomial(4, 0.5)"
   ]
  },
  {
   "cell_type": "code",
   "execution_count": 27,
   "metadata": {},
   "outputs": [
    {
     "data": {
      "text/plain": [
       "array([2, 3, 2, 1, 3, 3, 2, 2, 2, 4])"
      ]
     },
     "execution_count": 27,
     "metadata": {},
     "output_type": "execute_result"
    }
   ],
   "source": [
    "# Run the flipping the coin expermient 10 times\n",
    "np.random.binomial(4, 0.5, size=10)"
   ]
  },
  {
   "cell_type": "code",
   "execution_count": 28,
   "metadata": {},
   "outputs": [
    {
     "data": {
      "text/plain": [
       "array([4, 6, 3, ..., 9, 5, 5])"
      ]
     },
     "execution_count": 28,
     "metadata": {},
     "output_type": "execute_result"
    }
   ],
   "source": [
    "#Example \n",
    "samples = np.random.binomial(60, 0.1, size=10000) \n",
    "samples"
   ]
  },
  {
   "cell_type": "code",
   "execution_count": 29,
   "metadata": {},
   "outputs": [
    {
     "data": {
      "text/plain": [
       "<function matplotlib.pyplot.show>"
      ]
     },
     "execution_count": 29,
     "metadata": {},
     "output_type": "execute_result"
    },
    {
     "data": {
      "image/png": "[encoded data removed]",
      "text/plain": [
       "<matplotlib.figure.Figure at 0x1e4e73f7e80>"
      ]
     },
     "metadata": {},
     "output_type": "display_data"
    }
   ],
   "source": [
    "plt.hist(samples)\n",
    "plt.show"
   ]
  },
  {
   "cell_type": "markdown",
   "metadata": {},
   "source": [
    "**sns.kdeplot** (https://seaborn.pydata.org/generated/seaborn.kdeplot.html#seaborn.kdeplot)\n",
    "\n",
    "**The kernel density estimation (KDE)** is a non-parametric way to estimate the probability density function of a random variable. Kernel density estimation is a fundamental data smoothing problem where inferences about the population are made, based on a finite data sample. \n",
    "(https://en.wikipedia.org/wiki/Kernel_density_estimation)"
   ]
  },
  {
   "cell_type": "code",
   "execution_count": 30,
   "metadata": {},
   "outputs": [
    {
     "data": {
      "text/plain": [
       "<matplotlib.axes._subplots.AxesSubplot at 0x1e4e75637f0>"
      ]
     },
     "execution_count": 30,
     "metadata": {},
     "output_type": "execute_result"
    },
    {
     "data": {
      "image/png": "[encoded data removed]",
      "text/plain": [
       "<matplotlib.figure.Figure at 0x1e4e76dc4a8>"
      ]
     },
     "metadata": {},
     "output_type": "display_data"
    }
   ],
   "source": [
    "sns.kdeplot(samples, shade=True, color=\"r\")"
   ]
  },
  {
   "cell_type": "markdown",
   "metadata": {},
   "source": [
    "Comparison of histogram and kernel density on same random dataset.\n",
    "Kernel density estimates are closely related to histograms, but can be endowed with properties such as smoothness or continuity by using a suitable kernel. For a histogram, the bar is a measure of the density of data values within the bar.\n",
    "The smoothness of the kernel density estimate is evident compared to the discreteness of the histogram, as kernel density estimates converge faster to the true underlying density for continuous random variables.\n",
    "(https://en.wikipedia.org/wiki/Kernel_density_estimation)"
   ]
  },
  {
   "cell_type": "markdown",
   "metadata": {},
   "source": [
    " **sns.distplot()** (https://seaborn.pydata.org/tutorial/distributions.html)\n",
    " This will draw a histogram and fit a kernel density estimate (KDE)."
   ]
  },
  {
   "cell_type": "code",
   "execution_count": 31,
   "metadata": {},
   "outputs": [
    {
     "data": {
      "text/plain": [
       "<matplotlib.axes._subplots.AxesSubplot at 0x1e4e7738f28>"
      ]
     },
     "execution_count": 31,
     "metadata": {},
     "output_type": "execute_result"
    },
    {
     "data": {
      "image/png": "[encoded data removed]",
      "text/plain": [
       "<matplotlib.figure.Figure at 0x1e4e7756b70>"
      ]
     },
     "metadata": {},
     "output_type": "display_data"
    }
   ],
   "source": [
    "sns.distplot(samples)"
   ]
  },
  {
   "cell_type": "markdown",
   "metadata": {},
   "source": [
    "**Uses of Binomial Distribution**\n",
    "\n",
    "Calculating the proability of success or failure of an event eg. the probability of dying after a heart attack. (http://sphweb.bumc.bu.edu/otlt/MPH-Modules/BS/BS704_Probability/BS704_Probability7.html)"
   ]
  },
  {
   "cell_type": "markdown",
   "metadata": {
    "collapsed": true
   },
   "source": [
    "**3. The Poisson distribution**\n",
    "\n",
    "numpy.random.poisson\n",
    "\n",
    "Possion Distribution formula\n",
    "\n",
    "![Poisson Distribution Formula](https://encrypted-tbn0.gstatic.com/images?q=tbn:ANd9GcQsTiqq3hOFW7FErL-WEXm1TrZuUzcTOli84FmvIVjwcFml4bac)\n",
    "\n",
    "The Poisson distribution is the limit of the binomial distribution for large N.\n",
    "(https://docs.scipy.org/doc/numpy-1.15.1/reference/generated/numpy.random.poisson.html#numpy.random.poisson)\n",
    "\n",
    "The Poisson distribution is a discrete probability distribution that expresses the probability of a given number of events occurring in a fixed interval of time or space if these events occur with a known constant rate and independently of the time since the last event.[1] The Poisson distribution can also be used for the number of events in other specified intervals such as distance, area or volume. (https://en.wikipedia.org/wiki/Poisson_distribution)"
   ]
  },
  {
   "cell_type": "code",
   "execution_count": 32,
   "metadata": {
    "collapsed": true
   },
   "outputs": [],
   "source": [
    "# Draw samples from the distribution (https://docs.scipy.org/doc/numpy-1.15.0/reference/generated/numpy.random.poisson.html)\n",
    "s = np.random.poisson(5, 10000)"
   ]
  },
  {
   "cell_type": "code",
   "execution_count": 33,
   "metadata": {},
   "outputs": [
    {
     "data": {
      "image/png": "[encoded data removed]",
      "text/plain": [
       "<matplotlib.figure.Figure at 0x1e4e7774390>"
      ]
     },
     "metadata": {},
     "output_type": "display_data"
    }
   ],
   "source": [
    "count, bins, ignored = plt.hist(s, 14, density=True)\n",
    "plt.show()"
   ]
  },
  {
   "cell_type": "markdown",
   "metadata": {},
   "source": [
    "**Use of the Poisson Distribution** (https://corporatefinanceinstitute.com/resources/knowledge/other/poisson-distribution/)\n",
    "\n",
    "Companies can utilize the Poisson Distribution to examine how they may be able to take steps to improve their operational efficiency. For instance, an analysis done with the Poisson Distribution might reveal how a company can arrange staffing in order to be able to better handle peak periods for customer service calls."
   ]
  },
  {
   "cell_type": "markdown",
   "metadata": {},
   "source": [
    "**4. Normal Distribution**\n",
    "\n",
    "numpy.random.normal\n",
    "\n",
    "Normal distribution, otherwise know as a bell curve or \"Gaussian curve\", is a continuous distribution or a function that can take on values anywhere on the real line. The normal distribution is parameterized by two parameters: the mean of the distribution μ and the variance σ2."
   ]
  },
  {
   "cell_type": "markdown",
   "metadata": {},
   "source": [
    "Normal distribution equation\n",
    "\n",
    "![Normal Distribution Calculation](http://onlinestatbook.com/2/normal_distribution/graphics/normal_density.gif)"
   ]
  },
  {
   "cell_type": "code",
   "execution_count": 34,
   "metadata": {
    "collapsed": true
   },
   "outputs": [],
   "source": [
    "# https://docs.scipy.org/doc/numpy-1.15.0/reference/generated/numpy.random.normal.html\n",
    "mu, sigma = 0, 0.1 # mean and standard deviation\n",
    "s = np.random.normal(mu, sigma, 1000)"
   ]
  },
  {
   "cell_type": "code",
   "execution_count": 35,
   "metadata": {},
   "outputs": [
    {
     "data": {
      "text/plain": [
       "True"
      ]
     },
     "execution_count": 35,
     "metadata": {},
     "output_type": "execute_result"
    }
   ],
   "source": [
    "abs(mu - np.mean(s)) < 0.01"
   ]
  },
  {
   "cell_type": "code",
   "execution_count": 36,
   "metadata": {},
   "outputs": [
    {
     "data": {
      "text/plain": [
       "True"
      ]
     },
     "execution_count": 36,
     "metadata": {},
     "output_type": "execute_result"
    }
   ],
   "source": [
    "abs(sigma - np.std(s, ddof=1)) < 0.01"
   ]
  },
  {
   "cell_type": "code",
   "execution_count": 37,
   "metadata": {},
   "outputs": [
    {
     "data": {
      "image/png": "[encoded data removed]",
      "text/plain": [
       "<matplotlib.figure.Figure at 0x1e4e784f160>"
      ]
     },
     "metadata": {},
     "output_type": "display_data"
    }
   ],
   "source": [
    "count, bins, ignored = plt.hist(s, 30, density=True)\n",
    "plt.plot(bins, 1/(sigma * np.sqrt(2 * np.pi)) *\n",
    "               np.exp( - (bins - mu)**2 / (2 * sigma**2) ),\n",
    "         linewidth=2, color='r')\n",
    "plt.show()"
   ]
  },
  {
   "cell_type": "markdown",
   "metadata": {},
   "source": [
    "Seven features of normal distributions are listed below (http://onlinestatbook.com/2/normal_distribution/intro.html)\n",
    "- Normal distributions are symmetric around their mean.\n",
    "- The mean, median, and mode of a normal distribution are equal.\n",
    "- The area under the normal curve is equal to 1.0.\n",
    "- Normal distributions are denser in the center and less dense in the tails.\n",
    "- Normal distributions are defined by two parameters, the mean (μ) and the standard deviation (σ).\n",
    "- 68% of the area of a normal distribution is within one standard deviation of the mean.\n",
    "- Approximately 95% of the area of a normal distribution is within two standard deviations of the mean.\n",
    "\n",
    "**Uses of Normal Distribution** (https://www3.nd.edu/~rwilliam/stats1/x21.pdf)\n",
    "- Many things actually are normally distributed, or very close to it. For example, height and intelligence are approximately normally distributed; measurement errors also often have a normal distribution\n",
    "- The normal distribution is easy to work with mathematically. In many practical cases, the methods developed using normal theory work quite well even when the distribution is not normal.\n",
    "- There is a very strong connection between the size of a sample N and the extent to which a sampling distribution approaches the normal form. Many sampling distributions based on large N can be approximated by the normal distribution even though the population distribution itself is definitely not normal. "
   ]
  },
  {
   "cell_type": "markdown",
   "metadata": {},
   "source": [
    "**5. Gamma Distribution**\n",
    "\n",
    "numpy.random.gamma (shape, scale=1.0, size=None)\n",
    "\n",
    "The gamma distribution is a two-parameter family of continuous probability distributions. The exponential distribution, Erlang distribution, and chi-squared distribution are special cases of the gamma distribution. There are three different parametrizations in common use:\n",
    "\n",
    "- With a shape parameter k and a scale parameter θ.\n",
    "- With a shape parameter α = k and an inverse scale parameter β = 1/θ, called a rate parameter.\n",
    "- With a shape parameter k and a mean parameter μ = kθ = α/β.\n",
    "\n",
    "(https://en.wikipedia.org/wiki/Gamma_distribution)\n",
    "\n",
    "Gamma Probability Density Function\n",
    "\n",
    "![Gamma Distribution Equation](https://docs.scipy.org/doc/numpy-1.15.1/_images/math/62aefb0db5941504fd4d035fa8d8b7199f99565e.svg)\n",
    "\n",
    "**Use of the Gamma Distribtution**\n",
    "The Gamma distribution is widely used in engineering, science, and business, to model continuous variables that are always positive and have skewed distributions. In Swedge, the Gamma distribution can be useful for any variable which is always positive, such as cohesion or shear strength for example. (https://www.rocscience.com/help/swedge/swedge/Gamma_Distribution.htm)"
   ]
  },
  {
   "cell_type": "code",
   "execution_count": 38,
   "metadata": {
    "collapsed": true
   },
   "outputs": [],
   "source": [
    "# Example of the Gamma Distribution (https://docs.scipy.org/doc/numpy-1.15.1/reference/generated/numpy.random.gamma.html#numpy.random.gamma)7\n",
    "shape, scale = 2., 2.  # mean=4, std=2*sqrt(2)\n",
    "s = np.random.gamma(shape, scale, 1000)"
   ]
  },
  {
   "cell_type": "code",
   "execution_count": 39,
   "metadata": {},
   "outputs": [
    {
     "data": {
      "image/png": "[encoded data removed]",
      "text/plain": [
       "<matplotlib.figure.Figure at 0x1e4e7958f60>"
      ]
     },
     "metadata": {},
     "output_type": "display_data"
    }
   ],
   "source": [
    "import scipy.special as sps\n",
    "count, bins, ignored = plt.hist(s, 50, density=True)\n",
    "y = bins**(shape-1)*(np.exp(-bins/scale) /\n",
    "                     (sps.gamma(shape)*scale**shape))\n",
    "plt.plot(bins, y, linewidth=2, color='r')\n",
    "plt.show()"
   ]
  },
  {
   "cell_type": "markdown",
   "metadata": {},
   "source": [
    "## Pseudorandom Number Generation\n",
    "\n",
    "### The use of seeds in generating pseudorandom numbers\n",
    "\n",
    "The numpy.random module generates values from many kind sof probability distributions. They are called pseudorandom numbers because they are generated by an algorithm with deterministic behaviour based on the *seed* of the random number generator. You can change NumPy's random number generation seed using np.random.seed. (McKinney, Wes, O'Reilly Second Edition)\n",
    "\n",
    "For a seed to be used in a pseudorandom number generator, it does not need to be random. Because of the nature of number generating algorithms, so long as the original seed is ignored, the rest of the values that the algorithm generates will follow probability distribution in a pseudorandom manner. (https://en.wikipedia.org/wiki/Random_seed)\n",
    "\n",
    "Random seeds are often generated from the state of the computer system (such as the time), a cryptographically secure pseudorandom number generator or from a hardware random number generator. (https://en.wikipedia.org/wiki/Random_seed)"
   ]
  },
  {
   "cell_type": "markdown",
   "metadata": {},
   "source": [
    "## References\n",
    "https://docs.scipy.org/doc/numpy-1.15.1/reference/routines.random.html\n",
    "https://docs.scipy.org/doc/numpy-1.15.1/reference/generated/numpy.random.uniform.html\n",
    "https://stackoverflow.com/questions/29806133/the-random-number-generator-in-numpy)\n",
    "https://www.numpy.org/devdocs/reference/arrays.ndarray.html\n",
    "https://en.wikipedia.org/wiki/Permutation\n",
    "https://docs.scipy.org/doc/numpy-1.15.1/reference/generated/numpy.random.permutation.html#numpy.random.permutation\n",
    "https://docs.scipy.org/doc/numpy-1.15.1/reference/generated/numpy.random.shuffle.html#numpy.random.shuffle\n",
    "https://docs.scipy.org/doc/numpy-1.15.0/reference/generated/numpy.random.exponential.html\n",
    "https://en.wikipedia.org/wiki/Exponential_distribution\n",
    "https://docs.scipy.org/doc/numpy-1.15.1/reference/generated/numpy.random.binomial.html#numpy.random.binomial\n",
    "https://stackoverflow.com/questions/27644617/difference-between-n-and-size-parameters-in-np-random-binomialn-p-size-1000\n",
    "https://seaborn.pydata.org/generated/seaborn.kdeplot.html#seaborn.kdeplot\n",
    "https://en.wikipedia.org/wiki/Kernel_density_estimation\n",
    "https://seaborn.pydata.org/tutorial/distributions.html\n",
    "http://sphweb.bumc.bu.edu/otlt/MPH-Modules/BS/BS704_Probability/BS704_Probability7.html\n",
    "https://docs.scipy.org/doc/numpy-1.15.1/reference/generated/numpy.random.poisson.html#numpy.random.poisson\n",
    "https://en.wikipedia.org/wiki/Poisson_distribution\n",
    "https://corporatefinanceinstitute.com/resources/knowledge/other/poisson-distribution/\n",
    "http://onlinestatbook.com/2/normal_distribution/intro.html\n",
    "https://www3.nd.edu/~rwilliam/stats1/x21.pdf\n",
    "https://en.wikipedia.org/wiki/Gamma_distribution\n",
    "https://www.rocscience.com/help/swedge/swedge/Gamma_Distribution.htm\n",
    "https://en.wikipedia.org/wiki/Random_seed\n",
    "\n",
    "\n",
    "## Licience\n",
    "\n",
    "Apache License 2.0 A permissive license whose main conditions require preservation of copyright and license notices. Contributors provide an express grant of patent rights. Licensed works, modifications, and larger works may be distributed under different terms and without source code"
   ]
  },
  {
   "cell_type": "code",
   "execution_count": null,
   "metadata": {
    "collapsed": true
   },
   "outputs": [],
   "source": []
  }
 ],
 "metadata": {
  "kernelspec": {
   "display_name": "Python 3",
   "language": "python",
   "name": "python3"
  },
  "language_info": {
   "codemirror_mode": {
    "name": "ipython",
    "version": 3
   },
   "file_extension": ".py",
   "mimetype": "text/x-python",
   "name": "python",
   "nbconvert_exporter": "python",
   "pygments_lexer": "ipython3",
   "version": "3.6.3"
  }
 },
 "nbformat": 4,
 "nbformat_minor": 2
}
